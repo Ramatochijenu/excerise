{
 "cells": [
  {
   "cell_type": "code",
   "execution_count": null,
   "id": "92f1635a-07a5-49dc-8c51-44422d17d552",
   "metadata": {},
   "outputs": [],
   "source": [
    "import pandas as pd\n",
    "data = pd.read_excel(\"hamoye file/stage one/test/FoodBalanceSheets_E_Africa_NOFLAG.xlsx\")\n",
    "print(data)"
   ]
  },
  {
   "cell_type": "code",
   "execution_count": null,
   "id": "1414ac95-d397-4094-b210-555c4b46beda",
   "metadata": {},
   "outputs": [],
   "source": [
    " "
   ]
  },
  {
   "cell_type": "code",
   "execution_count": null,
   "id": "9cd01d0b-5d3a-4a83-9e9e-350a3e467f55",
   "metadata": {},
   "outputs": [],
   "source": []
  }
 ],
 "metadata": {
  "kernelspec": {
   "display_name": "Python 3 (ipykernel)",
   "language": "python",
   "name": "python3"
  },
  "language_info": {
   "name": ""
  }
 },
 "nbformat": 4,
 "nbformat_minor": 5
}
